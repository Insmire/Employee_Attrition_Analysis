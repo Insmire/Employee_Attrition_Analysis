{
 "cells": [
  {
   "cell_type": "markdown",
   "id": "60d49f6c",
   "metadata": {},
   "source": [
    "# Supervised Machine Learning Logistic Regression Model"
   ]
  },
  {
   "cell_type": "code",
   "execution_count": 9,
   "id": "c5f3f7d8",
   "metadata": {},
   "outputs": [],
   "source": [
    "# import dependencies\n",
    "from getpass import getpass\n",
    "import sqlalchemy\n",
    "from sqlalchemy import Column, Integer, String, ForeignKey, create_engine, text\n",
    "import psycopg2\n",
    "\n",
    "import pandas as pd\n",
    "\n",
    "from sklearn.model_selection import train_test_split\n",
    "from imblearn.over_sampling import RandomOverSampler\n",
    "from sklearn.linear_model import LogisticRegression\n",
    "from sklearn.metrics import confusion_matrix\n",
    "from sklearn.metrics import balanced_accuracy_score\n",
    "from imblearn.metrics import classification_report_imbalanced"
   ]
  },
  {
   "cell_type": "markdown",
   "id": "7b165188",
   "metadata": {},
   "source": [
    "# Establish connection with Database and read in table"
   ]
  },
  {
   "cell_type": "code",
   "execution_count": 2,
   "id": "ce0d0157",
   "metadata": {},
   "outputs": [
    {
     "name": "stdout",
     "output_type": "stream",
     "text": [
      "Enter the secret value: ········\n"
     ]
    }
   ],
   "source": [
    "# SQL Alchemy connection from RDS\n",
    "secret = getpass('Enter the secret value: ')\n",
    "\n",
    "args ={\n",
    "    'host':\"ogdataset.c11hekhsylui.us-west-1.rds.amazonaws.com\",\n",
    "    'port':'5432',\n",
    "    'database':\"og_dataset\",\n",
    "    'user':\"attritionProject\",\n",
    "    'password':secret\n",
    "}\n",
    "engine = create_engine(\"postgresql://{user}:{password}@{host}:{port}/{database}\".format(**args))\n",
    "connection = engine.connect()"
   ]
  },
  {
   "cell_type": "code",
   "execution_count": 4,
   "id": "11a80dd2",
   "metadata": {},
   "outputs": [
    {
     "data": {
      "text/html": [
       "<div>\n",
       "<style scoped>\n",
       "    .dataframe tbody tr th:only-of-type {\n",
       "        vertical-align: middle;\n",
       "    }\n",
       "\n",
       "    .dataframe tbody tr th {\n",
       "        vertical-align: top;\n",
       "    }\n",
       "\n",
       "    .dataframe thead th {\n",
       "        text-align: right;\n",
       "    }\n",
       "</style>\n",
       "<table border=\"1\" class=\"dataframe\">\n",
       "  <thead>\n",
       "    <tr style=\"text-align: right;\">\n",
       "      <th></th>\n",
       "      <th>Age</th>\n",
       "      <th>Attrition</th>\n",
       "      <th>Distance from Home</th>\n",
       "      <th>Monthly Income</th>\n",
       "      <th>Number Companies Worked</th>\n",
       "      <th>Percent Salary Hike</th>\n",
       "      <th>Total Working Years</th>\n",
       "      <th>Training Times Last Year</th>\n",
       "      <th>Years at Company</th>\n",
       "      <th>Years In Current Role</th>\n",
       "      <th>...</th>\n",
       "      <th>Stock Option Level_1</th>\n",
       "      <th>Stock Option Level_2</th>\n",
       "      <th>Stock Option Level_3</th>\n",
       "      <th>Education Level_1</th>\n",
       "      <th>Education Level_2</th>\n",
       "      <th>Education Level_3</th>\n",
       "      <th>Education Level_4</th>\n",
       "      <th>Education Level_5</th>\n",
       "      <th>Performance Rating_3</th>\n",
       "      <th>Performance Rating_4</th>\n",
       "    </tr>\n",
       "  </thead>\n",
       "  <tbody>\n",
       "    <tr>\n",
       "      <th>0</th>\n",
       "      <td>41</td>\n",
       "      <td>1</td>\n",
       "      <td>1</td>\n",
       "      <td>5993</td>\n",
       "      <td>8</td>\n",
       "      <td>11</td>\n",
       "      <td>8</td>\n",
       "      <td>0</td>\n",
       "      <td>6</td>\n",
       "      <td>4</td>\n",
       "      <td>...</td>\n",
       "      <td>0.0</td>\n",
       "      <td>0.0</td>\n",
       "      <td>0.0</td>\n",
       "      <td>0.0</td>\n",
       "      <td>1.0</td>\n",
       "      <td>0.0</td>\n",
       "      <td>0.0</td>\n",
       "      <td>0.0</td>\n",
       "      <td>1.0</td>\n",
       "      <td>0.0</td>\n",
       "    </tr>\n",
       "    <tr>\n",
       "      <th>1</th>\n",
       "      <td>49</td>\n",
       "      <td>0</td>\n",
       "      <td>8</td>\n",
       "      <td>5130</td>\n",
       "      <td>1</td>\n",
       "      <td>23</td>\n",
       "      <td>10</td>\n",
       "      <td>3</td>\n",
       "      <td>10</td>\n",
       "      <td>7</td>\n",
       "      <td>...</td>\n",
       "      <td>1.0</td>\n",
       "      <td>0.0</td>\n",
       "      <td>0.0</td>\n",
       "      <td>1.0</td>\n",
       "      <td>0.0</td>\n",
       "      <td>0.0</td>\n",
       "      <td>0.0</td>\n",
       "      <td>0.0</td>\n",
       "      <td>0.0</td>\n",
       "      <td>1.0</td>\n",
       "    </tr>\n",
       "    <tr>\n",
       "      <th>2</th>\n",
       "      <td>37</td>\n",
       "      <td>1</td>\n",
       "      <td>2</td>\n",
       "      <td>2090</td>\n",
       "      <td>6</td>\n",
       "      <td>15</td>\n",
       "      <td>7</td>\n",
       "      <td>3</td>\n",
       "      <td>0</td>\n",
       "      <td>0</td>\n",
       "      <td>...</td>\n",
       "      <td>0.0</td>\n",
       "      <td>0.0</td>\n",
       "      <td>0.0</td>\n",
       "      <td>0.0</td>\n",
       "      <td>1.0</td>\n",
       "      <td>0.0</td>\n",
       "      <td>0.0</td>\n",
       "      <td>0.0</td>\n",
       "      <td>1.0</td>\n",
       "      <td>0.0</td>\n",
       "    </tr>\n",
       "    <tr>\n",
       "      <th>3</th>\n",
       "      <td>33</td>\n",
       "      <td>0</td>\n",
       "      <td>3</td>\n",
       "      <td>2909</td>\n",
       "      <td>1</td>\n",
       "      <td>11</td>\n",
       "      <td>8</td>\n",
       "      <td>3</td>\n",
       "      <td>8</td>\n",
       "      <td>7</td>\n",
       "      <td>...</td>\n",
       "      <td>0.0</td>\n",
       "      <td>0.0</td>\n",
       "      <td>0.0</td>\n",
       "      <td>0.0</td>\n",
       "      <td>0.0</td>\n",
       "      <td>0.0</td>\n",
       "      <td>1.0</td>\n",
       "      <td>0.0</td>\n",
       "      <td>1.0</td>\n",
       "      <td>0.0</td>\n",
       "    </tr>\n",
       "    <tr>\n",
       "      <th>4</th>\n",
       "      <td>27</td>\n",
       "      <td>0</td>\n",
       "      <td>2</td>\n",
       "      <td>3468</td>\n",
       "      <td>9</td>\n",
       "      <td>12</td>\n",
       "      <td>6</td>\n",
       "      <td>3</td>\n",
       "      <td>2</td>\n",
       "      <td>2</td>\n",
       "      <td>...</td>\n",
       "      <td>1.0</td>\n",
       "      <td>0.0</td>\n",
       "      <td>0.0</td>\n",
       "      <td>1.0</td>\n",
       "      <td>0.0</td>\n",
       "      <td>0.0</td>\n",
       "      <td>0.0</td>\n",
       "      <td>0.0</td>\n",
       "      <td>1.0</td>\n",
       "      <td>0.0</td>\n",
       "    </tr>\n",
       "    <tr>\n",
       "      <th>...</th>\n",
       "      <td>...</td>\n",
       "      <td>...</td>\n",
       "      <td>...</td>\n",
       "      <td>...</td>\n",
       "      <td>...</td>\n",
       "      <td>...</td>\n",
       "      <td>...</td>\n",
       "      <td>...</td>\n",
       "      <td>...</td>\n",
       "      <td>...</td>\n",
       "      <td>...</td>\n",
       "      <td>...</td>\n",
       "      <td>...</td>\n",
       "      <td>...</td>\n",
       "      <td>...</td>\n",
       "      <td>...</td>\n",
       "      <td>...</td>\n",
       "      <td>...</td>\n",
       "      <td>...</td>\n",
       "      <td>...</td>\n",
       "      <td>...</td>\n",
       "    </tr>\n",
       "    <tr>\n",
       "      <th>1465</th>\n",
       "      <td>36</td>\n",
       "      <td>0</td>\n",
       "      <td>23</td>\n",
       "      <td>2571</td>\n",
       "      <td>4</td>\n",
       "      <td>17</td>\n",
       "      <td>17</td>\n",
       "      <td>3</td>\n",
       "      <td>5</td>\n",
       "      <td>2</td>\n",
       "      <td>...</td>\n",
       "      <td>1.0</td>\n",
       "      <td>0.0</td>\n",
       "      <td>0.0</td>\n",
       "      <td>0.0</td>\n",
       "      <td>1.0</td>\n",
       "      <td>0.0</td>\n",
       "      <td>0.0</td>\n",
       "      <td>0.0</td>\n",
       "      <td>1.0</td>\n",
       "      <td>0.0</td>\n",
       "    </tr>\n",
       "    <tr>\n",
       "      <th>1466</th>\n",
       "      <td>39</td>\n",
       "      <td>0</td>\n",
       "      <td>6</td>\n",
       "      <td>9991</td>\n",
       "      <td>4</td>\n",
       "      <td>15</td>\n",
       "      <td>9</td>\n",
       "      <td>5</td>\n",
       "      <td>7</td>\n",
       "      <td>7</td>\n",
       "      <td>...</td>\n",
       "      <td>1.0</td>\n",
       "      <td>0.0</td>\n",
       "      <td>0.0</td>\n",
       "      <td>1.0</td>\n",
       "      <td>0.0</td>\n",
       "      <td>0.0</td>\n",
       "      <td>0.0</td>\n",
       "      <td>0.0</td>\n",
       "      <td>1.0</td>\n",
       "      <td>0.0</td>\n",
       "    </tr>\n",
       "    <tr>\n",
       "      <th>1467</th>\n",
       "      <td>27</td>\n",
       "      <td>0</td>\n",
       "      <td>4</td>\n",
       "      <td>6142</td>\n",
       "      <td>1</td>\n",
       "      <td>20</td>\n",
       "      <td>6</td>\n",
       "      <td>0</td>\n",
       "      <td>6</td>\n",
       "      <td>2</td>\n",
       "      <td>...</td>\n",
       "      <td>1.0</td>\n",
       "      <td>0.0</td>\n",
       "      <td>0.0</td>\n",
       "      <td>0.0</td>\n",
       "      <td>0.0</td>\n",
       "      <td>1.0</td>\n",
       "      <td>0.0</td>\n",
       "      <td>0.0</td>\n",
       "      <td>0.0</td>\n",
       "      <td>1.0</td>\n",
       "    </tr>\n",
       "    <tr>\n",
       "      <th>1468</th>\n",
       "      <td>49</td>\n",
       "      <td>0</td>\n",
       "      <td>2</td>\n",
       "      <td>5390</td>\n",
       "      <td>2</td>\n",
       "      <td>14</td>\n",
       "      <td>17</td>\n",
       "      <td>3</td>\n",
       "      <td>9</td>\n",
       "      <td>6</td>\n",
       "      <td>...</td>\n",
       "      <td>0.0</td>\n",
       "      <td>0.0</td>\n",
       "      <td>0.0</td>\n",
       "      <td>0.0</td>\n",
       "      <td>0.0</td>\n",
       "      <td>1.0</td>\n",
       "      <td>0.0</td>\n",
       "      <td>0.0</td>\n",
       "      <td>1.0</td>\n",
       "      <td>0.0</td>\n",
       "    </tr>\n",
       "    <tr>\n",
       "      <th>1469</th>\n",
       "      <td>34</td>\n",
       "      <td>0</td>\n",
       "      <td>8</td>\n",
       "      <td>4404</td>\n",
       "      <td>2</td>\n",
       "      <td>12</td>\n",
       "      <td>6</td>\n",
       "      <td>3</td>\n",
       "      <td>4</td>\n",
       "      <td>3</td>\n",
       "      <td>...</td>\n",
       "      <td>0.0</td>\n",
       "      <td>0.0</td>\n",
       "      <td>0.0</td>\n",
       "      <td>0.0</td>\n",
       "      <td>0.0</td>\n",
       "      <td>1.0</td>\n",
       "      <td>0.0</td>\n",
       "      <td>0.0</td>\n",
       "      <td>1.0</td>\n",
       "      <td>0.0</td>\n",
       "    </tr>\n",
       "  </tbody>\n",
       "</table>\n",
       "<p>1470 rows × 76 columns</p>\n",
       "</div>"
      ],
      "text/plain": [
       "      Age  Attrition  Distance from Home  Monthly Income  \\\n",
       "0      41          1                   1            5993   \n",
       "1      49          0                   8            5130   \n",
       "2      37          1                   2            2090   \n",
       "3      33          0                   3            2909   \n",
       "4      27          0                   2            3468   \n",
       "...   ...        ...                 ...             ...   \n",
       "1465   36          0                  23            2571   \n",
       "1466   39          0                   6            9991   \n",
       "1467   27          0                   4            6142   \n",
       "1468   49          0                   2            5390   \n",
       "1469   34          0                   8            4404   \n",
       "\n",
       "      Number Companies Worked  Percent Salary Hike  Total Working Years  \\\n",
       "0                           8                   11                    8   \n",
       "1                           1                   23                   10   \n",
       "2                           6                   15                    7   \n",
       "3                           1                   11                    8   \n",
       "4                           9                   12                    6   \n",
       "...                       ...                  ...                  ...   \n",
       "1465                        4                   17                   17   \n",
       "1466                        4                   15                    9   \n",
       "1467                        1                   20                    6   \n",
       "1468                        2                   14                   17   \n",
       "1469                        2                   12                    6   \n",
       "\n",
       "      Training Times Last Year  Years at Company  Years In Current Role  ...  \\\n",
       "0                            0                 6                      4  ...   \n",
       "1                            3                10                      7  ...   \n",
       "2                            3                 0                      0  ...   \n",
       "3                            3                 8                      7  ...   \n",
       "4                            3                 2                      2  ...   \n",
       "...                        ...               ...                    ...  ...   \n",
       "1465                         3                 5                      2  ...   \n",
       "1466                         5                 7                      7  ...   \n",
       "1467                         0                 6                      2  ...   \n",
       "1468                         3                 9                      6  ...   \n",
       "1469                         3                 4                      3  ...   \n",
       "\n",
       "      Stock Option Level_1  Stock Option Level_2  Stock Option Level_3  \\\n",
       "0                      0.0                   0.0                   0.0   \n",
       "1                      1.0                   0.0                   0.0   \n",
       "2                      0.0                   0.0                   0.0   \n",
       "3                      0.0                   0.0                   0.0   \n",
       "4                      1.0                   0.0                   0.0   \n",
       "...                    ...                   ...                   ...   \n",
       "1465                   1.0                   0.0                   0.0   \n",
       "1466                   1.0                   0.0                   0.0   \n",
       "1467                   1.0                   0.0                   0.0   \n",
       "1468                   0.0                   0.0                   0.0   \n",
       "1469                   0.0                   0.0                   0.0   \n",
       "\n",
       "      Education Level_1  Education Level_2  Education Level_3  \\\n",
       "0                   0.0                1.0                0.0   \n",
       "1                   1.0                0.0                0.0   \n",
       "2                   0.0                1.0                0.0   \n",
       "3                   0.0                0.0                0.0   \n",
       "4                   1.0                0.0                0.0   \n",
       "...                 ...                ...                ...   \n",
       "1465                0.0                1.0                0.0   \n",
       "1466                1.0                0.0                0.0   \n",
       "1467                0.0                0.0                1.0   \n",
       "1468                0.0                0.0                1.0   \n",
       "1469                0.0                0.0                1.0   \n",
       "\n",
       "      Education Level_4  Education Level_5  Performance Rating_3  \\\n",
       "0                   0.0                0.0                   1.0   \n",
       "1                   0.0                0.0                   0.0   \n",
       "2                   0.0                0.0                   1.0   \n",
       "3                   1.0                0.0                   1.0   \n",
       "4                   0.0                0.0                   1.0   \n",
       "...                 ...                ...                   ...   \n",
       "1465                0.0                0.0                   1.0   \n",
       "1466                0.0                0.0                   1.0   \n",
       "1467                0.0                0.0                   0.0   \n",
       "1468                0.0                0.0                   1.0   \n",
       "1469                0.0                0.0                   1.0   \n",
       "\n",
       "      Performance Rating_4  \n",
       "0                      0.0  \n",
       "1                      1.0  \n",
       "2                      0.0  \n",
       "3                      0.0  \n",
       "4                      0.0  \n",
       "...                    ...  \n",
       "1465                   0.0  \n",
       "1466                   0.0  \n",
       "1467                   1.0  \n",
       "1468                   0.0  \n",
       "1469                   0.0  \n",
       "\n",
       "[1470 rows x 76 columns]"
      ]
     },
     "execution_count": 4,
     "metadata": {},
     "output_type": "execute_result"
    }
   ],
   "source": [
    "# read in table from database\n",
    "attrition_df = pd.read_sql('SELECT * FROM encoded_data', connection)\n",
    "attrition_df"
   ]
  },
  {
   "cell_type": "markdown",
   "id": "eeeffd8e",
   "metadata": {},
   "source": [
    "# Evaluate discrepancy between attrition values"
   ]
  },
  {
   "cell_type": "code",
   "execution_count": 5,
   "id": "ea412d17",
   "metadata": {},
   "outputs": [
    {
     "data": {
      "text/plain": [
       "0    1233\n",
       "1     237\n",
       "Name: Attrition, dtype: int64"
      ]
     },
     "execution_count": 5,
     "metadata": {},
     "output_type": "execute_result"
    }
   ],
   "source": [
    "# determine how many yes/no (1/0) values we have\n",
    "attrition_df[\"Attrition\"].value_counts()"
   ]
  },
  {
   "cell_type": "markdown",
   "id": "2b95e2c3",
   "metadata": {},
   "source": [
    "# Split data into training and test groups"
   ]
  },
  {
   "cell_type": "code",
   "execution_count": 10,
   "id": "a3f5f52b",
   "metadata": {},
   "outputs": [
    {
     "name": "stderr",
     "output_type": "stream",
     "text": [
      "/Users/joeymyers/opt/anaconda3/envs/mlenv/lib/python3.7/site-packages/ipykernel_launcher.py:2: FutureWarning: In a future version of pandas all arguments of DataFrame.drop except for the argument 'labels' will be keyword-only\n",
      "  \n"
     ]
    }
   ],
   "source": [
    "# Split our preprocessed data into our features and target arrays\n",
    "X = attrition_df.drop(\"Attrition\",1).values\n",
    "y = attrition_df[\"Attrition\"].values\n",
    "\n",
    "# Split the preprocessed data into a training and testing dataset\n",
    "X_train, X_test, y_train, y_test = train_test_split(X, y, random_state=78, stratify=y)"
   ]
  },
  {
   "cell_type": "markdown",
   "id": "3d332170",
   "metadata": {},
   "source": [
    "# Combination Sampling using Random Oversampling"
   ]
  },
  {
   "cell_type": "code",
   "execution_count": 11,
   "id": "e2639568",
   "metadata": {},
   "outputs": [],
   "source": [
    "# Using random oversampling increase the number of minority class (Yes values)\n",
    "ros = RandomOverSampler(random_state=1)\n",
    "X_resampled, y_resampled = ros.fit_resample(X_train, y_train)"
   ]
  },
  {
   "cell_type": "code",
   "execution_count": 12,
   "id": "bdedffc4",
   "metadata": {},
   "outputs": [
    {
     "data": {
      "text/plain": [
       "Counter({1: 924, 0: 924})"
      ]
     },
     "execution_count": 12,
     "metadata": {},
     "output_type": "execute_result"
    }
   ],
   "source": [
    "# Count the resampled classes\n",
    "Counter(y_resampled)"
   ]
  },
  {
   "cell_type": "markdown",
   "id": "91d3b608",
   "metadata": {},
   "source": [
    "# Create and Train Model"
   ]
  },
  {
   "cell_type": "code",
   "execution_count": 13,
   "id": "3733b5ea",
   "metadata": {},
   "outputs": [],
   "source": [
    "# create a LogisticRegression instance\n",
    "model = LogisticRegression(solver=\"lbfgs\", max_iter=150)"
   ]
  },
  {
   "cell_type": "code",
   "execution_count": 14,
   "id": "ea7fe2be",
   "metadata": {},
   "outputs": [
    {
     "name": "stderr",
     "output_type": "stream",
     "text": [
      "/Users/joeymyers/opt/anaconda3/envs/mlenv/lib/python3.7/site-packages/sklearn/linear_model/_logistic.py:765: ConvergenceWarning: lbfgs failed to converge (status=1):\n",
      "STOP: TOTAL NO. of ITERATIONS REACHED LIMIT.\n",
      "\n",
      "Increase the number of iterations (max_iter) or scale the data as shown in:\n",
      "    https://scikit-learn.org/stable/modules/preprocessing.html\n",
      "Please also refer to the documentation for alternative solver options:\n",
      "    https://scikit-learn.org/stable/modules/linear_model.html#logistic-regression\n",
      "  extra_warning_msg=_LOGISTIC_SOLVER_CONVERGENCE_MSG)\n"
     ]
    },
    {
     "data": {
      "text/plain": [
       "LogisticRegression(max_iter=150)"
      ]
     },
     "execution_count": 14,
     "metadata": {},
     "output_type": "execute_result"
    }
   ],
   "source": [
    "# fit/train the model to classify Attrition using the resampled data set\n",
    "model.fit(X_resampled, y_resampled)"
   ]
  },
  {
   "cell_type": "markdown",
   "id": "5f769d5b",
   "metadata": {},
   "source": [
    "# Evaluation Metrics"
   ]
  },
  {
   "cell_type": "code",
   "execution_count": 15,
   "id": "5dcab50e",
   "metadata": {},
   "outputs": [
    {
     "data": {
      "text/plain": [
       "array([[221,  88],\n",
       "       [ 14,  45]])"
      ]
     },
     "execution_count": 15,
     "metadata": {},
     "output_type": "execute_result"
    }
   ],
   "source": [
    "# Display the confusion matrix\n",
    "y_pred = model.predict(X_test)\n",
    "confusion_matrix(y_test, y_pred)"
   ]
  },
  {
   "cell_type": "code",
   "execution_count": 16,
   "id": "be3876d1",
   "metadata": {},
   "outputs": [
    {
     "data": {
      "text/plain": [
       "0.7389611101969173"
      ]
     },
     "execution_count": 16,
     "metadata": {},
     "output_type": "execute_result"
    }
   ],
   "source": [
    "# Assess the Model's Accuracy w/ the Balanced Accuracy Score\n",
    "balanced_accuracy_score(y_test, y_pred)"
   ]
  },
  {
   "cell_type": "code",
   "execution_count": 17,
   "id": "37d1e117",
   "metadata": {},
   "outputs": [
    {
     "name": "stdout",
     "output_type": "stream",
     "text": [
      "                   pre       rec       spe        f1       geo       iba       sup\n",
      "\n",
      "          0       0.94      0.72      0.76      0.81      0.74      0.54       309\n",
      "          1       0.34      0.76      0.72      0.47      0.74      0.55        59\n",
      "\n",
      "avg / total       0.84      0.72      0.76      0.76      0.74      0.54       368\n",
      "\n"
     ]
    }
   ],
   "source": [
    "# Print the imbalanced classification report to evaluate the precision and sensitivity of the model\n",
    "print(classification_report_imbalanced(y_test, y_pred))"
   ]
  },
  {
   "cell_type": "code",
   "execution_count": null,
   "id": "e0ee12bd",
   "metadata": {},
   "outputs": [],
   "source": []
  }
 ],
 "metadata": {
  "kernelspec": {
   "display_name": "mlenv",
   "language": "python",
   "name": "mlenv"
  },
  "language_info": {
   "codemirror_mode": {
    "name": "ipython",
    "version": 3
   },
   "file_extension": ".py",
   "mimetype": "text/x-python",
   "name": "python",
   "nbconvert_exporter": "python",
   "pygments_lexer": "ipython3",
   "version": "3.7.11"
  }
 },
 "nbformat": 4,
 "nbformat_minor": 5
}
